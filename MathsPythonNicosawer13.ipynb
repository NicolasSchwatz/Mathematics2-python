{
 "cells": [
  {
   "attachments": {},
   "cell_type": "markdown",
   "metadata": {},
   "source": [
    "Python in maths problems\n",
    "======"
   ]
  },
  {
   "cell_type": "code",
   "execution_count": null,
   "metadata": {},
   "outputs": [],
   "source": [
    "#Librerias que usaremos durante nuestra practica en python orientado a las matematicas:\n",
    "#import math    --> Libreria basica de matematicas\n",
    "#import sympy   -->Libreria para calculos matematicos con variables sin necesidad de definir funciones de python\n",
    "#import scipy   --> Libreria con diversas funciones para matematicas e ingenieria\n",
    "#import numpy as np -->Libreria para calculos y manipulacion \n",
    "#import matlotlib.pyplot as plt -->Libreria para graficos"
   ]
  },
  {
   "attachments": {},
   "cell_type": "markdown",
   "metadata": {},
   "source": [
    "Conceptos Básicos\n",
    "--"
   ]
  },
  {
   "cell_type": "code",
   "execution_count": 6,
   "metadata": {},
   "outputs": [
    {
     "name": "stdout",
     "output_type": "stream",
     "text": [
      "3 --> 0 --> 3 --> 0.5 --> 8 --> 10\n",
      "10 --> 3 --> 2 --> 2 --> 2.35\n"
     ]
    }
   ],
   "source": [
    "#Aritmetica Básica\n",
    "import math\n",
    "suma = 1 + 2\n",
    "resto = 2 % 1\n",
    "mult = 1 * 3\n",
    "div = 1 / 2\n",
    "pot = 2 ** 3\n",
    "ecuac = 2+3*3-1\n",
    "ecuaP = (2+3)*(3-1)\n",
    "redInfP = math.ceil(2.354)\n",
    "redInfN = math.floor(2.354)\n",
    "mcd = math.gcd(12,34)\n",
    "rendo = round(2.345,2)\n",
    "\n",
    "print(suma,\"-->\",resto,\"-->\",mult,\"-->\",div,\"-->\",pot,\"-->\",ecuac)\n",
    "print(ecuaP,\"-->\",redInfP,\"-->\",redInfN,\"-->\",mcd,\"-->\",rendo)\n",
    "\n"
   ]
  },
  {
   "attachments": {},
   "cell_type": "markdown",
   "metadata": {},
   "source": [
    "Trigonometria\n",
    "=="
   ]
  },
  {
   "attachments": {},
   "cell_type": "markdown",
   "metadata": {},
   "source": [
    "*Principales comparaciones para pi*\n",
    "\n",
    "\n",
    "math.pi == np.pi\n",
    "\n",
    "math.pi == scipy.pi"
   ]
  },
  {
   "cell_type": "code",
   "execution_count": 7,
   "metadata": {},
   "outputs": [
    {
     "name": "stdout",
     "output_type": "stream",
     "text": [
      "3.141592653589793 --> 2.718281828459045 --> 6.283185307179586 --> inf --> nan\n"
     ]
    }
   ],
   "source": [
    "import math\n",
    "\n",
    "pi = math.pi\n",
    "\n",
    "e = math.e\n",
    "\n",
    "tau = math.tau\n",
    "\n",
    "inf = math.inf\n",
    "\n",
    "nan = math.nan\n",
    "\n",
    "print(pi,\"-->\",e,\"-->\",tau,\"-->\",inf,\"-->\",nan)"
   ]
  },
  {
   "attachments": {},
   "cell_type": "markdown",
   "metadata": {},
   "source": [
    "*Conversion*"
   ]
  },
  {
   "cell_type": "code",
   "execution_count": 9,
   "metadata": {},
   "outputs": [
    {
     "name": "stdout",
     "output_type": "stream",
     "text": [
      "Degrees 180.0 \n",
      "Radians 0.05483113556160755\n"
     ]
    }
   ],
   "source": [
    "import math\n",
    "dg = math.degrees(math.pi)\n",
    "\n",
    "r = math.radians(math.pi)\n",
    "\n",
    "print(\"Degrees\",dg,\"\\nRadians\",r)"
   ]
  },
  {
   "attachments": {},
   "cell_type": "markdown",
   "metadata": {},
   "source": [
    "*Funciones Trigonometricas*"
   ]
  },
  {
   "cell_type": "code",
   "execution_count": 15,
   "metadata": {},
   "outputs": [
    {
     "name": "stdout",
     "output_type": "stream",
     "text": [
      "Funciones Trigonometricas basicas \n",
      "\n",
      "Todo es a (1) -->  cos 0.5403023058681398 sin 0.8414709848078965 tan 1.5574077246549023 \n",
      "\n",
      "Todo es a (0.5) --> acos 1.0471975511965979 asin 0.5235987755982989 atan 0.4636476090008061\n",
      "\n",
      "\n",
      "Funciones Hiperbolicas\n",
      "\n",
      "Todo es a (1) cosh 1.5430806348152437 sinh 1.1752011936438014 tanh 0.7615941559557649 \n",
      "\n",
      "Todo es a (1) acosh 0.0 asinh 0.8813735870195429 atanh 0.5493061443340549 \n",
      "\n"
     ]
    }
   ],
   "source": [
    "import math\n",
    "# Los siguientes resultados se expresan en radianes\n",
    "\n",
    "cos = math.cos(1)\n",
    "sin = math.sin(1)\n",
    "tan = math.tan(1)\n",
    "\n",
    "acos = math.acos(0.5)\n",
    "asin = math.asin(0.5)\n",
    "atan= math.atan(0.5)\n",
    "\n",
    "\n",
    "#Funciones Hiperbolicas\n",
    "\n",
    "acosh = math.acosh(1)\n",
    "asinh = math.asinh(1)\n",
    "atanh = math.atanh(0.5)\n",
    "cosh = math.cosh(1)\n",
    "sinh = math.sinh(1)\n",
    "tanh = math.tanh(1)\n",
    "\n",
    "print(\"Funciones Trigonometricas basicas \\n\")\n",
    "print(\"Todo es a (1) --> \",\"cos\",cos,\"sin\",sin,\"tan\",tan,\"\\n\")\n",
    "print(\"Todo es a (0.5) -->\",\"acos\",acos,\"asin\",asin,\"atan\",atan)\n",
    "\n",
    "print(\"\\n\")\n",
    "print(\"Funciones Hiperbolicas\\n\")\n",
    "print(\"Todo es a (1)\",\"cosh\",cosh,\"sinh\",sinh,\"tanh\",tanh,\"\\n\")\n",
    "print(\"Todo es a (1)\",\"acosh\",acosh,\"asinh\",asinh,\"atanh\",atanh,\"\\n\")"
   ]
  },
  {
   "attachments": {},
   "cell_type": "markdown",
   "metadata": {},
   "source": [
    "*Potencias y Logaritmos*"
   ]
  },
  {
   "cell_type": "code",
   "execution_count": 18,
   "metadata": {},
   "outputs": [
    {
     "name": "stdout",
     "output_type": "stream",
     "text": [
      " Exponencial  2.718281828459045 \n",
      " Logaritmo  0.6931471805599453 \n",
      " Logaritmo en base 5  0.43067655807339306\n",
      "\n",
      " Potencia  9.0 \n",
      " Cuadrado  1.4142135623730951\n"
     ]
    }
   ],
   "source": [
    "import math\n",
    "\n",
    "exp = math.exp(1)\n",
    "log = math.log(2)\n",
    "logB = math.log(2,5)\n",
    "pot = math.pow(3,2)\n",
    "cuadrado = math.sqrt(2)\n",
    "\n",
    "print(\" Exponencial \",exp,\"\\n\",\"Logaritmo \",log,\"\\n\",\"Logaritmo en base 5 \",logB)\n",
    "print(\"\\n Potencia \",pot,\"\\n Cuadrado \",cuadrado)"
   ]
  },
  {
   "attachments": {},
   "cell_type": "markdown",
   "metadata": {},
   "source": [
    "Trabajar con cadena de Caracteres\n",
    "=="
   ]
  },
  {
   "cell_type": "code",
   "execution_count": 90,
   "metadata": {},
   "outputs": [
    {
     "name": "stdout",
     "output_type": "stream",
     "text": [
      "Mayusculas  HOLA MUNDO \n",
      "Minusculas  hola mundo\n",
      "Hola Mundo\n",
      "Hola::Mundo\n",
      "Alonso\n"
     ]
    }
   ],
   "source": [
    "a = \"Hola MunDo\"\n",
    "b = \"Hola\"\n",
    "c = \"Mundo\"\n",
    "d = \"aLonSo\"\n",
    "print(\"Mayusculas \",a.upper(),\"\\nMinusculas \",a.lower())\n",
    "print(b,c)\n",
    "print(b,c,sep=\"::\")\n",
    "print(d.capitalize())"
   ]
  },
  {
   "cell_type": "code",
   "execution_count": 26,
   "metadata": {},
   "outputs": [
    {
     "name": "stdout",
     "output_type": "stream",
     "text": [
      "Mi nombre es Nicolas, mi apellido Schwartz y mi edad 19\n",
      "\n",
      "\n",
      "Mi nombre es Nicolas, mi apellido es Schwartz y mi edad 19\n",
      "\n",
      "\n"
     ]
    },
    {
     "data": {
      "text/plain": [
       "'Mi nombre es Nicolas, mi apellido Schwartz y mi edad 19'"
      ]
     },
     "execution_count": 26,
     "metadata": {},
     "output_type": "execute_result"
    }
   ],
   "source": [
    "nombre = \"Nicolas\"\n",
    "apellido = \"Schwartz\" \n",
    "edad = \"19\" \n",
    "\n",
    "print(\"Mi nombre es {}, mi apellido {} y mi edad {}\".format(nombre,apellido,edad))\n",
    "print(\"\\n\")\n",
    "print(\"Mi nombre es {one}, mi apellido es {two} y mi edad {three}\".format(one = nombre,two=apellido,three=edad))\n",
    "print(\"\\n\")\n",
    "f\"Mi nombre es {nombre}, mi apellido {apellido} y mi edad {edad}\"\n"
   ]
  },
  {
   "attachments": {},
   "cell_type": "markdown",
   "metadata": {},
   "source": [
    "Manipulacion de Listas\n",
    "=="
   ]
  },
  {
   "cell_type": "code",
   "execution_count": 33,
   "metadata": {},
   "outputs": [
    {
     "name": "stdout",
     "output_type": "stream",
     "text": [
      "b\n",
      "['b', 'c', 'd'] \n",
      "\n",
      "['c'] \n",
      "\n",
      "['a', 'b', 'c'] \n",
      "\n"
     ]
    }
   ],
   "source": [
    "l1 = ['a','b','c']\n",
    "l2 = ['a','b',['A','B']]\n",
    "\n",
    "#Navegar por las posiciones\n",
    "print(l1[1])\n",
    "#Introducir en la ultima posicion\n",
    "l1.append('d')\n",
    "\n",
    "#Ver determinados elementos de una lista\n",
    "print(l1[1:],\"\\n\")  #Muestra los elementos a partir de la primera posicion\n",
    "print(l1[2:3],\"\\n\") #Muestra los elementos de la segunda posicion\n",
    "print(l1[:3],\"\\n\")  #Muestra los elementos hasta la tercera posicion"
   ]
  },
  {
   "attachments": {},
   "cell_type": "markdown",
   "metadata": {},
   "source": [
    "*Listas Anidadas*"
   ]
  },
  {
   "cell_type": "code",
   "execution_count": 39,
   "metadata": {},
   "outputs": [
    {
     "name": "stdout",
     "output_type": "stream",
     "text": [
      "[3, [4, 5, 6, 7]] \n",
      "\n",
      "[4, 5, 6, 7] \n",
      "\n",
      "[5, 6] \n",
      "\n"
     ]
    }
   ],
   "source": [
    "l3 = [1,2,[3,[4,5,6,7]]]\n",
    "\n",
    "print(l3[2],\"\\n\")\n",
    "print(l3[2][1],\"\\n\")\n",
    "print(l3[2][1][1:3],\"\\n\")"
   ]
  },
  {
   "attachments": {},
   "cell_type": "markdown",
   "metadata": {},
   "source": [
    "Diccionarios\n",
    "=="
   ]
  },
  {
   "cell_type": "code",
   "execution_count": 55,
   "metadata": {},
   "outputs": [
    {
     "name": "stdout",
     "output_type": "stream",
     "text": [
      "19\n",
      "dict_keys(['edad', 'curso'])\n",
      "Asus\n",
      "False\n",
      "No hay datos Registrados\n",
      "Asus\n",
      "{'curso': '2'}\n",
      "{'curso': '3'}\n"
     ]
    }
   ],
   "source": [
    "#Clave:item\n",
    "\n",
    "d1 = {\"edad\":\"19\",\"curso\":\"2\"}\n",
    "\n",
    "print(d1[\"edad\"])\n",
    "print(d1.keys())\n",
    "\n",
    "#Ahora crearemos un diccionario con un identificador\n",
    "d01 = {\"01\":{\"Marca\":\"Asus\",\"Procesador\":\"Ryzen7\",\"Ram\":\"16\",\"funciona\":True}}\n",
    "\n",
    "print(d01[\"01\"][\"Marca\"]) #Busqueda en un diccionario una clave\n",
    "\n",
    "#Buscar si existe una clave\n",
    "\n",
    "print(\"Disco\" in d01[\"01\"])\n",
    "\n",
    "#print(d01[\"01\"][\"Disco\"]) --> Error, Porque no existe esa clave\n",
    "\n",
    "#Creamos un codigo que nos de x valor/frase si no existe\n",
    "print(d01[\"01\"].get(\"pantalla\",\"No hay datos Registrados\")) #En el caso de que no exista\n",
    "print(d01[\"01\"].get(\"Marca\",\"No hay datos Registrados\")) #En el caso de que exista\n",
    "\n",
    "#Borrar alguna clave\n",
    "\n",
    "del d1[\"edad\"] #\"edad\",\"curso\"--> \"curso\"\n",
    "print(d1)\n",
    "\n",
    "#Modificar datos de una lista\n",
    "d1[\"curso\"] = \"3\"\n",
    "print(d1)"
   ]
  },
  {
   "attachments": {},
   "cell_type": "markdown",
   "metadata": {},
   "source": [
    "Tuplas\n",
    "=="
   ]
  },
  {
   "cell_type": "code",
   "execution_count": 61,
   "metadata": {},
   "outputs": [
    {
     "name": "stdout",
     "output_type": "stream",
     "text": [
      "2\n"
     ]
    }
   ],
   "source": [
    "#Las tuplas tienen una particularidad, estas no pueden ser modificadas. Esto lo veremos a continuacion\n",
    "\n",
    "t1 = (1,2,3,4)\n",
    "print(t1[1])\n",
    "#t1[1] = 3 --> Error"
   ]
  },
  {
   "attachments": {},
   "cell_type": "markdown",
   "metadata": {},
   "source": [
    "Conjuntos(Sets)\n",
    "=="
   ]
  },
  {
   "cell_type": "code",
   "execution_count": 65,
   "metadata": {},
   "outputs": [
    {
     "name": "stdout",
     "output_type": "stream",
     "text": [
      "{1, 2, 3, 4, 5}\n",
      "{1, 2, 3, 4, 5}\n",
      "{1, 2, 3, 4, 5, 9}\n"
     ]
    },
    {
     "data": {
      "text/plain": [
       "1"
      ]
     },
     "execution_count": 65,
     "metadata": {},
     "output_type": "execute_result"
    }
   ],
   "source": [
    "#La particularidad de los conjuntos/sets es que estos no pueden tener elementos duplicados\n",
    "\n",
    "s = {1,2,3,4,5}\n",
    "print(s)\n",
    "\n",
    "#Que pasa si metemos un duplicado --> 1\n",
    "s.add(1)\n",
    "print(s)\n",
    "#Si metemos uno diferente\n",
    "s.add(9)\n",
    "print(s)\n",
    "#.pop Borra primer elemento y devuelve este\n",
    "s.pop()\n",
    "#Esta es la unica forma de borrar. Del no sirve"
   ]
  },
  {
   "attachments": {},
   "cell_type": "markdown",
   "metadata": {},
   "source": [
    "Condicionales\n",
    "=="
   ]
  },
  {
   "cell_type": "code",
   "execution_count": 66,
   "metadata": {},
   "outputs": [
    {
     "name": "stdout",
     "output_type": "stream",
     "text": [
      "Es menor de 3\n"
     ]
    }
   ],
   "source": [
    "s = 2\n",
    "if (s < 3):\n",
    "    print(\"Es menor de 3\")\n",
    "else:\n",
    "    print(\"Es mayor de 3\")    "
   ]
  },
  {
   "cell_type": "code",
   "execution_count": 69,
   "metadata": {},
   "outputs": [
    {
     "name": "stdout",
     "output_type": "stream",
     "text": [
      "El numero es 0\n"
     ]
    }
   ],
   "source": [
    "s = 0\n",
    "\n",
    "if(s % 2 == 0) and (s != 0):\n",
    "    print(\"El numero es par\")\n",
    "elif(s % 2 != 0) and (s != 0):\n",
    "    print(\"El numero es impar\")\n",
    "else:\n",
    "    print(\"El numero es 0\")"
   ]
  },
  {
   "attachments": {},
   "cell_type": "markdown",
   "metadata": {},
   "source": [
    "Bucles\n",
    "=="
   ]
  },
  {
   "cell_type": "code",
   "execution_count": 70,
   "metadata": {},
   "outputs": [
    {
     "name": "stdout",
     "output_type": "stream",
     "text": [
      "1\n",
      "2\n",
      "3\n",
      "4\n",
      "5\n"
     ]
    }
   ],
   "source": [
    "s = [1,2,3,4,5]\n",
    "\n",
    "for item in s:\n",
    "    print(item)"
   ]
  },
  {
   "cell_type": "code",
   "execution_count": 71,
   "metadata": {},
   "outputs": [
    {
     "name": "stdout",
     "output_type": "stream",
     "text": [
      "0\n",
      "1\n",
      "2\n",
      "3\n",
      "4\n"
     ]
    }
   ],
   "source": [
    "for i in range(5):\n",
    "    print(i)"
   ]
  },
  {
   "attachments": {},
   "cell_type": "markdown",
   "metadata": {},
   "source": [
    "While\n",
    "=="
   ]
  },
  {
   "cell_type": "code",
   "execution_count": 72,
   "metadata": {},
   "outputs": [
    {
     "name": "stdout",
     "output_type": "stream",
     "text": [
      "Numero  0\n",
      "Numero  1\n",
      "Numero  2\n",
      "Numero  3\n",
      "Numero  4\n",
      "Numero  5\n",
      "Numero  6\n",
      "Numero  7\n",
      "Numero  8\n",
      "Numero  9\n"
     ]
    }
   ],
   "source": [
    "i = 0\n",
    "while i < 10:\n",
    "    print(\"Numero \",i)\n",
    "    i = i+1"
   ]
  },
  {
   "attachments": {},
   "cell_type": "markdown",
   "metadata": {},
   "source": [
    "List Comprehension\n",
    "=="
   ]
  },
  {
   "cell_type": "code",
   "execution_count": 74,
   "metadata": {},
   "outputs": [
    {
     "data": {
      "text/plain": [
       "[1, 4, 9, 16]"
      ]
     },
     "execution_count": 74,
     "metadata": {},
     "output_type": "execute_result"
    }
   ],
   "source": [
    "#Creacion de listas a partir de un bucle for\n",
    "\n",
    "i1 = [item**2 for item in [1,2,3,4]]\n",
    "i1"
   ]
  },
  {
   "cell_type": "code",
   "execution_count": 75,
   "metadata": {},
   "outputs": [
    {
     "data": {
      "text/plain": [
       "[1, 3]"
      ]
     },
     "execution_count": 75,
     "metadata": {},
     "output_type": "execute_result"
    }
   ],
   "source": [
    "i2 = [item for item in [1,2,3,4] if item % 2 != 0]\n",
    "i2"
   ]
  },
  {
   "attachments": {},
   "cell_type": "markdown",
   "metadata": {},
   "source": [
    "Deteccion de Variables\n",
    "=="
   ]
  },
  {
   "cell_type": "code",
   "execution_count": 76,
   "metadata": {},
   "outputs": [
    {
     "data": {
      "text/plain": [
       "False"
      ]
     },
     "execution_count": 76,
     "metadata": {},
     "output_type": "execute_result"
    }
   ],
   "source": [
    "#Se basa en una funcion en la que se pasa un valor y el tipo a identificar\n",
    "\n",
    "isinstance(2,str) #Es 2 un string ?"
   ]
  },
  {
   "cell_type": "code",
   "execution_count": 77,
   "metadata": {},
   "outputs": [
    {
     "data": {
      "text/plain": [
       "True"
      ]
     },
     "execution_count": 77,
     "metadata": {},
     "output_type": "execute_result"
    }
   ],
   "source": [
    "isinstance(\"2\",str) #Es \"2\" un string ?"
   ]
  },
  {
   "attachments": {},
   "cell_type": "markdown",
   "metadata": {},
   "source": [
    "Crear Funciones\n",
    "=="
   ]
  },
  {
   "cell_type": "code",
   "execution_count": 88,
   "metadata": {},
   "outputs": [
    {
     "name": "stdout",
     "output_type": "stream",
     "text": [
      "Es positivo\n"
     ]
    }
   ],
   "source": [
    "#Estructura basica de una funcion\n",
    "\n",
    "x = 2\n",
    "\n",
    "def signo(x):\n",
    "    if(x<0):\n",
    "        print(\"Es negativo\")\n",
    "    else:\n",
    "        print(\"Es positivo\")\n",
    "signo(x)"
   ]
  },
  {
   "attachments": {},
   "cell_type": "markdown",
   "metadata": {},
   "source": [
    "Lambdas\n",
    "=="
   ]
  },
  {
   "cell_type": "code",
   "execution_count": 89,
   "metadata": {},
   "outputs": [
    {
     "data": {
      "text/plain": [
       "7"
      ]
     },
     "execution_count": 89,
     "metadata": {},
     "output_type": "execute_result"
    }
   ],
   "source": [
    "#Lambda es una funcion pero sin nombre y para funciones mas sencillas\n",
    "\n",
    "funct1 = lambda x: x+2\n",
    "funct1(5)"
   ]
  },
  {
   "attachments": {},
   "cell_type": "markdown",
   "metadata": {},
   "source": [
    "Clases\n",
    "=="
   ]
  },
  {
   "cell_type": "code",
   "execution_count": 94,
   "metadata": {},
   "outputs": [
    {
     "name": "stdout",
     "output_type": "stream",
     "text": [
      "El rectangulo con lados 2 y 3 tiene un area de 6\n"
     ]
    }
   ],
   "source": [
    "#Clase principal Rectangulo que agrupa diferentes funciones\n",
    "class Rectangulo:\n",
    "    def __init__(self,lado1,lado2) :    #Se pasa por valor diferentes valores a la clase\n",
    "                                        #El _init__ se mantiene y es el constructor.\n",
    "        self.lado1 = lado1              #Se asigna a la funcion dentro de la clase esos valores \n",
    "        self.lado2 = lado2\n",
    "    def area(self):                     #funcion que devuelve una cifra\n",
    "        return self.lado1*self.lado2\n",
    "    def __str__(self):                  #Funcion que devuelve un string\n",
    "        return f\"El rectangulo con lados {self.lado1} y {self.lado2} tiene un area de {self.area()}\"\n",
    "\n",
    "r = Rectangulo(2,3)\n",
    "print(r)"
   ]
  },
  {
   "cell_type": "code",
   "execution_count": 99,
   "metadata": {},
   "outputs": [
    {
     "name": "stdout",
     "output_type": "stream",
     "text": [
      "El cilindro de altura 4 y radio 2 tiene un volumen de 50.26548245743669 y un area de 37.69911184307752\n"
     ]
    }
   ],
   "source": [
    "#Ejercicios sobre clases\n",
    "#Crear una clase la cual se basa en recoger radio y altura de un cilindro y sacar el volumen y superficie\n",
    "import math\n",
    "\n",
    "class Cilindro:\n",
    "    def __init__ (self,altura,radio):\n",
    "        self.radio = radio\n",
    "        self.altura = altura\n",
    "    def superficie(self):   #pi*r*(r+h)\n",
    "        return math.pi * self.radio * (self.radio + self.altura)\n",
    "    def volumen(self):      #pi * r^2 * h  \n",
    "        return math.pi * pow(self.radio,2)* self.altura\n",
    "    def __str__(self):\n",
    "        return f\"El cilindro de altura {self.altura} y radio {self.radio} tiene un volumen de {self.volumen()} y un area de {self.superficie()}\"\n",
    "        \n",
    "c = Cilindro(4,2)\n",
    "print(c)"
   ]
  },
  {
   "attachments": {},
   "cell_type": "markdown",
   "metadata": {},
   "source": [
    "Segunda Parte\n",
    "=="
   ]
  },
  {
   "attachments": {},
   "cell_type": "markdown",
   "metadata": {},
   "source": [
    "Derivadas\n",
    "--"
   ]
  },
  {
   "cell_type": "code",
   "execution_count": 151,
   "metadata": {},
   "outputs": [],
   "source": [
    "#Implementacion de mas librerias para esta parte\n",
    "\n",
    "import numpy as np     \n",
    "from sympy import * # Librería de Calculo\n",
    "from sympy.plotting import plot as symplot # Librería para las gráficas\n",
    "from sympy.abc import x, y, h # Carga de un simbolico \"x\"\n",
    "from sympy.plotting.pygletplot import PygletPlot as Plot # Librería para las gráficas\n"
   ]
  },
  {
   "attachments": {},
   "cell_type": "markdown",
   "metadata": {},
   "source": [
    "*NOTA IMPORTANTE*\n",
    "\n",
    "Si no te funciona import numpy as np\n",
    "\n",
    "-Windows: cmd como administrador --> pip install numpy\n",
    "\n",
    "-Linux: terminal --> pip install numpy"
   ]
  },
  {
   "attachments": {},
   "cell_type": "markdown",
   "metadata": {},
   "source": [
    "Limites\n",
    "--"
   ]
  },
  {
   "cell_type": "code",
   "execution_count": 140,
   "metadata": {},
   "outputs": [
    {
     "name": "stdout",
     "output_type": "stream",
     "text": [
      "1\n",
      "-sin(x)\n"
     ]
    }
   ],
   "source": [
    "import numpy as np\n",
    "from sympy import *\n",
    "from sympy.abc import x,h,y\n",
    "from sympy.plotting.pygletplot import PygletPlot as Plot\n",
    "from sympy.plotting import plot as symplot\n",
    "\n",
    "print(limit(sin(x)/x,x,0))\n",
    "print(limit((cos(x + h) - cos(x))/h, h, 0)) # Cálculo de la derivada a partir de su definición"
   ]
  },
  {
   "attachments": {},
   "cell_type": "markdown",
   "metadata": {},
   "source": [
    "Derivadas\n",
    "--"
   ]
  },
  {
   "cell_type": "code",
   "execution_count": 120,
   "metadata": {},
   "outputs": [
    {
     "name": "stdout",
     "output_type": "stream",
     "text": [
      "-sin(x)\n",
      "-sin(x)\n",
      "-sin(x)\n",
      "Derivative(cos(x), x)\n"
     ]
    }
   ],
   "source": [
    "print(diff(cos(x)))\n",
    "print((cos(x)).diff(x))\n",
    "d1 = diff(cos(x))\n",
    "print(d1.doit())\n",
    "print(d)"
   ]
  },
  {
   "cell_type": "code",
   "execution_count": 121,
   "metadata": {},
   "outputs": [
    {
     "data": {
      "text/latex": [
       "$\\displaystyle \\frac{d}{d x} \\cos{\\left(x \\right)}$"
      ],
      "text/plain": [
       "Derivative(cos(x), x)"
      ]
     },
     "execution_count": 121,
     "metadata": {},
     "output_type": "execute_result"
    }
   ],
   "source": [
    "Derivative(cos(x),x)\n"
   ]
  },
  {
   "attachments": {},
   "cell_type": "markdown",
   "metadata": {},
   "source": [
    "Representacion Grafica\n",
    "--"
   ]
  },
  {
   "cell_type": "code",
   "execution_count": 154,
   "metadata": {},
   "outputs": [
    {
     "data": {
      "image/png": "[encoded data removed]",
      "text/plain": [
       "<Figure size 640x480 with 1 Axes>"
      ]
     },
     "metadata": {},
     "output_type": "display_data"
    }
   ],
   "source": [
    "from sympy.plotting import plot as symplot # Librería para las gráficas\n",
    "\n",
    "p = symplot(x**2,(x,-5,5))\n",
    "#p[0].line_color = 'red' Color de la grafica"
   ]
  },
  {
   "attachments": {},
   "cell_type": "markdown",
   "metadata": {},
   "source": [
    "Sustitucion\n",
    "--"
   ]
  },
  {
   "cell_type": "code",
   "execution_count": 126,
   "metadata": {},
   "outputs": [
    {
     "data": {
      "text/latex": [
       "$\\displaystyle 100.0$"
      ],
      "text/plain": [
       "100.000000000000"
      ]
     },
     "execution_count": 126,
     "metadata": {},
     "output_type": "execute_result"
    }
   ],
   "source": [
    "d1 = x**2\n",
    "d1.evalf(subs={x:10})\n"
   ]
  },
  {
   "attachments": {},
   "cell_type": "markdown",
   "metadata": {},
   "source": [
    "Derivadas Parciales\n",
    "--"
   ]
  },
  {
   "cell_type": "code",
   "execution_count": 129,
   "metadata": {},
   "outputs": [
    {
     "name": "stdout",
     "output_type": "stream",
     "text": [
      "2*x\n",
      "3*y**2\n",
      "2\n",
      "2\n"
     ]
    }
   ],
   "source": [
    "g = x**2 + y**3\n",
    "\n",
    "asX = diff(g,x) #Derivada de x en g\n",
    "asY = diff(g,y) #Derivada de y en g\n",
    "\n",
    "#Primera derivada parcial \n",
    "print(asX)\n",
    "print(asY)\n",
    "\n",
    "#Segunda Derivada Parcial\n",
    "#Se puede de diferentes formas\n",
    "\n",
    "asXX = diff(g,x,x)\n",
    "asX2 = diff(g,x,2)\n",
    "\n",
    "print(asXX)\n",
    "print(asX2)\n",
    "\n",
    "#Lo mismo sucede respecto a Y"
   ]
  },
  {
   "attachments": {},
   "cell_type": "markdown",
   "metadata": {},
   "source": [
    "Analisis de Funciones\n",
    "--"
   ]
  },
  {
   "cell_type": "code",
   "execution_count": 153,
   "metadata": {},
   "outputs": [
    {
     "name": "stdout",
     "output_type": "stream",
     "text": [
      "2*x/(x - 2)\n"
     ]
    },
    {
     "data": {
      "image/png": "[encoded data removed]",
      "text/plain": [
       "<Figure size 640x480 with 1 Axes>"
      ]
     },
     "metadata": {},
     "output_type": "display_data"
    }
   ],
   "source": [
    "num = x*2\n",
    "den = x-2\n",
    "\n",
    "f = num/den\n",
    "\n",
    "print(f)\n",
    "\n",
    "p = symplot(f,xlim=(-6,6))"
   ]
  },
  {
   "attachments": {},
   "cell_type": "markdown",
   "metadata": {},
   "source": [
    "Asintotas Horizontales\n",
    "--"
   ]
  },
  {
   "cell_type": "code",
   "execution_count": 133,
   "metadata": {},
   "outputs": [
    {
     "data": {
      "text/latex": [
       "$\\displaystyle \\infty$"
      ],
      "text/plain": [
       "oo"
      ]
     },
     "execution_count": 133,
     "metadata": {},
     "output_type": "execute_result"
    }
   ],
   "source": [
    "#Limite de una funcion a infinito siendo el simbolo 'oo'\n",
    "f = x*2\n",
    "\n",
    "limit(f,x,oo)"
   ]
  },
  {
   "attachments": {},
   "cell_type": "markdown",
   "metadata": {},
   "source": [
    "Puntos Criticos\n",
    "--"
   ]
  },
  {
   "cell_type": "code",
   "execution_count": 145,
   "metadata": {},
   "outputs": [
    {
     "data": {
      "text/latex": [
       "$\\displaystyle 2 x + 2$"
      ],
      "text/plain": [
       "2*x + 2"
      ]
     },
     "execution_count": 145,
     "metadata": {},
     "output_type": "execute_result"
    }
   ],
   "source": [
    "f = x**2+2*x+3\n",
    "\n",
    "f1 = diff(f)\n",
    "f1"
   ]
  },
  {
   "cell_type": "code",
   "execution_count": 146,
   "metadata": {},
   "outputs": [
    {
     "data": {
      "text/plain": [
       "[-1]"
      ]
     },
     "execution_count": 146,
     "metadata": {},
     "output_type": "execute_result"
    }
   ],
   "source": [
    "criticosX = list(solveset(f1,x))\n",
    "criticosX\n",
    "#Punto Critico en x = -1"
   ]
  },
  {
   "cell_type": "code",
   "execution_count": 147,
   "metadata": {},
   "outputs": [
    {
     "data": {
      "text/plain": [
       "[2]"
      ]
     },
     "execution_count": 147,
     "metadata": {},
     "output_type": "execute_result"
    }
   ],
   "source": [
    "criticosY = [f.subs(x,a) for a in criticosX]\n",
    "criticosY"
   ]
  },
  {
   "attachments": {},
   "cell_type": "markdown",
   "metadata": {},
   "source": [
    "Segunda Derivada\n",
    "--"
   ]
  },
  {
   "cell_type": "code",
   "execution_count": 148,
   "metadata": {},
   "outputs": [
    {
     "data": {
      "text/latex": [
       "$\\displaystyle 2$"
      ],
      "text/plain": [
       "2"
      ]
     },
     "execution_count": 148,
     "metadata": {},
     "output_type": "execute_result"
    }
   ],
   "source": [
    "f2 = diff(f,x,2)\n",
    "f2\n",
    "\n",
    "#Sustituimos el/los ptos criticos en la segunda derivada"
   ]
  },
  {
   "cell_type": "code",
   "execution_count": 149,
   "metadata": {},
   "outputs": [
    {
     "data": {
      "text/plain": [
       "[2]"
      ]
     },
     "execution_count": 149,
     "metadata": {},
     "output_type": "execute_result"
    }
   ],
   "source": [
    "segderiv = [f2.subs(x,cr) for cr in criticosX]\n",
    "segderiv"
   ]
  },
  {
   "attachments": {},
   "cell_type": "markdown",
   "metadata": {},
   "source": [
    "### Representacion de Los Puntos Criticos"
   ]
  },
  {
   "cell_type": "code",
   "execution_count": 152,
   "metadata": {},
   "outputs": [
    {
     "data": {
      "image/png": "[encoded data removed]",
      "text/plain": [
       "<Figure size 640x480 with 1 Axes>"
      ]
     },
     "metadata": {},
     "output_type": "display_data"
    }
   ],
   "source": [
    "import matplotlib.pyplot as plt #pip install matplotlib\n",
    "xx = np.linspace(-10, 10, 1000)\n",
    "yy = lambdify(x, f)(xx)\n",
    "plt.plot(xx, yy)\n",
    "plt.plot(criticosX, criticosY, 'k*')\n",
    "plt.show()"
   ]
  },
  {
   "attachments": {},
   "cell_type": "markdown",
   "metadata": {},
   "source": [
    "Tercera Parte\n",
    "=="
   ]
  },
  {
   "cell_type": "code",
   "execution_count": 155,
   "metadata": {},
   "outputs": [],
   "source": [
    "#Librerias a usar en esta parte\n",
    "import numpy as np # biblioteca de cálculo numérico y análisis de datos\n",
    "import pylab as plt # biblioteca para la generación de gráficos a partir de listas o arrays\n",
    "from sympy import * # Librería de Cálculo\n",
    "from sympy.plotting import plot as symplot # Librería para los gráficos\n",
    "from sympy.abc import x, y, h # Carga de un simbólico \"x\"\n",
    "from sympy.plotting.pygletplot import PygletPlot as Plot # Librería para los gráficos\n",
    "import math"
   ]
  },
  {
   "attachments": {},
   "cell_type": "markdown",
   "metadata": {},
   "source": [
    "Definicion de una Integral. Una integra se define como el area bajo una curva entre dos valores, a y b"
   ]
  },
  {
   "cell_type": "code",
   "execution_count": 159,
   "metadata": {},
   "outputs": [
    {
     "data": {
      "image/png": "[encoded data removed]",
      "text/plain": [
       "<Figure size 640x480 with 1 Axes>"
      ]
     },
     "metadata": {},
     "output_type": "display_data"
    }
   ],
   "source": [
    "a=0\n",
    "b=6\n",
    "n=1000\n",
    "\n",
    "# Creamos la función simbólica\n",
    "f = cos(2*pi*x)*exp(-x)+1\n",
    "# Definimos los subintervalos entre a y b como n valores espaciados uniformemente\n",
    "xvalues = np.linspace(a,b,n)\n",
    "# Obtenemos los valores correspondientes para la y\n",
    "yvalues = lambdify(x, f)(xvalues) \n",
    "\n",
    "plt.plot(xvalues,yvalues)     # Dibujamos la curva a partir de sus coordenadas x, y \n",
    "# Rellenamos el área de integración en color azul \n",
    "plt.fill_between(xvalues,y1=yvalues,y2=0,where=(xvalues>=1)&(xvalues<=4), facecolor='blue',alpha=0.5)\n",
    "# Añadimos un texto explicativo en la posición (2.5, 0.4)\n",
    "plt.text(2.5,0.4,r\"$\\int_{1}^4(cos(2πx)e^{-x}+1)\\mathrm{d}x$\",horizontalalignment='center',fontsize=14)\n",
    "plt.show()"
   ]
  },
  {
   "cell_type": "code",
   "execution_count": null,
   "metadata": {},
   "outputs": [],
   "source": []
  }
 ],
 "metadata": {
  "kernelspec": {
   "display_name": "Python 3",
   "language": "python",
   "name": "python3"
  },
  "language_info": {
   "codemirror_mode": {
    "name": "ipython",
    "version": 3
   },
   "file_extension": ".py",
   "mimetype": "text/x-python",
   "name": "python",
   "nbconvert_exporter": "python",
   "pygments_lexer": "ipython3",
   "version": "3.10.10"
  },
  "orig_nbformat": 4
 },
 "nbformat": 4,
 "nbformat_minor": 2
}
